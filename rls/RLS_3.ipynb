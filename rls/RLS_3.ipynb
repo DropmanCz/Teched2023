{
    "metadata": {
        "kernelspec": {
            "name": "SQL",
            "display_name": "SQL",
            "language": "sql"
        },
        "language_info": {
            "name": "sql",
            "version": ""
        }
    },
    "nbformat_minor": 2,
    "nbformat": 4,
    "cells": [
        {
            "cell_type": "markdown",
            "source": [
                "# Různé scénáře využití RLS\r\n",
                "Následující ukázky pracují s dalšími podmínkami v security predikátu a s použitím kontextu připojení.\r\n",
                "\r\n",
                "Předpoklady úspěšného fungování:\r\n",
                "- vykonání notebooku RLS_1\r\n",
                "- vykonání notebooku RLS_2\r\n",
                ""
            ],
            "metadata": {
                "azdata_cell_guid": "08001faa-49fb-4395-8d76-a7dce6104db4"
            },
            "attachments": {}
        },
        {
            "cell_type": "code",
            "source": [
                "use RLS\r\n",
                "go\r\n",
                "\r\n",
                "drop table if EXISTS dbo.AdvancedRls, dbo.Dochazka\r\n",
                "\r\n",
                "create table dbo.AdvancedRls\r\n",
                "(\r\n",
                "    Id int not null identity constraint pk_AdvancedRls primary key\r\n",
                "    , Jmeno nvarchar(30) not null\r\n",
                "    , Bohatstvi int not null\r\n",
                "    , OsobniCislo nchar(3) not null\r\n",
                ")\r\n",
                "go\r\n",
                "\r\n",
                "insert dbo.AdvancedRls values\r\n",
                "('Jiří', 1000, '001')\r\n",
                ", ('Jakub', 200, '001')\r\n",
                ", ('Vladimír', 1100, '001')\r\n",
                ", ('Jana', 1000, '002')\r\n",
                "go\r\n",
                "\r\n",
                "create table dbo.Dochazka\r\n",
                "(\r\n",
                "    Id int not null identity constraint pk_Dochazka primary key\r\n",
                "    , OsobniCislo nchar(3) not null\r\n",
                "    , Prichod datetime2 not NULL\r\n",
                "    , Odchod datetime2 null\r\n",
                ")\r\n",
                "go\r\n",
                "\r\n",
                "insert dbo.Dochazka (OsobniCislo, Prichod, Odchod) values ('001', '2023-05-25 7:00', null)\r\n",
                "go"
            ],
            "metadata": {
                "azdata_cell_guid": "c3a7852e-b810-484b-80de-643d8f67654a",
                "language": "sql"
            },
            "outputs": [],
            "execution_count": null
        },
        {
            "cell_type": "markdown",
            "source": [
                "Následující příklad nám pomůže vymyslet, jak má vypadat security predikát."
            ],
            "metadata": {
                "language": "sql",
                "azdata_cell_guid": "b90d9205-399f-47e0-a421-158bbbf016f7"
            },
            "attachments": {}
        },
        {
            "cell_type": "code",
            "source": [
                "use RLS\r\n",
                "go\r\n",
                "\r\n",
                "select 1 as col1 from dbo.Dochazka where SYSDATETIME() between Prichod and coalesce(Odchod, dateadd(mm, 1, SYSDATETIME())) and OsobniCislo = '001'"
            ],
            "metadata": {
                "language": "sql",
                "azdata_cell_guid": "ecf4f99e-13f6-4adb-bd5b-4a7a33ae0610"
            },
            "outputs": [],
            "execution_count": null
        },
        {
            "cell_type": "markdown",
            "source": [
                "Hodnota osobního čísla zadaná v poslední podmínce bude tvořit parametr funkce. Problém je, že osobní číslo není nijak automaticky zjistitelná hodnota. Musí se nějak přidat do kontextu připojení. Na to slouží **CONTEXT\\_INFO**. Je to jednak vlastnost připojení, a jednak funkce, která umí hodnotu přečíst **CONTEXT\\_INFO** je vždy binární řetězec. Nejprve si ukážeme, jak funguje nastavení a přečtení hodnoty."
            ],
            "metadata": {
                "language": "sql",
                "azdata_cell_guid": "6ee69c34-960d-4942-8be8-dc2c81eacced"
            },
            "attachments": {}
        },
        {
            "cell_type": "code",
            "source": [
                "use RLS\r\n",
                "go\r\n",
                "\r\n",
                "declare @context varbinary(16) = cast('abc' as varbinary)\r\n",
                "\r\n",
                "set context_info @context\r\n",
                "\r\n",
                "select cast(CONTEXT_INFO() as char(3))"
            ],
            "metadata": {
                "language": "sql",
                "azdata_cell_guid": "8f46ea1a-8f71-4a44-8c5f-b4babea4a850"
            },
            "outputs": [],
            "execution_count": null
        },
        {
            "cell_type": "markdown",
            "source": [
                "A teď zkombinujeme **CONTEXT\\_INFO** a nachystaný příkaz **SELECT** dohromady ve funkci."
            ],
            "metadata": {
                "language": "sql",
                "azdata_cell_guid": "d40f79c0-1952-4996-9afd-23b0b82caeee"
            },
            "attachments": {}
        },
        {
            "cell_type": "code",
            "source": [
                "use RLS\r\n",
                "go\r\n",
                "\r\n",
                "create or alter function rls.fnFiltrAdvanced(@osobniCislo nchar(3))\r\n",
                "returns table\r\n",
                "with SCHEMABINDING\r\n",
                "as\r\n",
                "return\r\n",
                "select 1 as col1 from dbo.Dochazka where SYSDATETIME() between Prichod and coalesce(Odchod, dateadd(minute, 1, SYSDATETIME())) and @osobniCislo = cast(CONTEXT_INFO() as char(3))\r\n",
                "GO"
            ],
            "metadata": {
                "language": "sql",
                "azdata_cell_guid": "e02cd090-ac5d-477b-bc80-89947fdfab67"
            },
            "outputs": [],
            "execution_count": null
        },
        {
            "cell_type": "markdown",
            "source": [
                "Vytvoříme politiku..."
            ],
            "metadata": {
                "language": "sql",
                "azdata_cell_guid": "6ef8cf12-686b-448b-857e-db086dedcd17"
            },
            "attachments": {}
        },
        {
            "cell_type": "code",
            "source": [
                "use RLS\r\n",
                "go\r\n",
                "\r\n",
                "create security policy rls.policyAdvancedRls\r\n",
                "add filter predicate rls.fnFiltrAdvanced(OsobniCislo) on dbo.AdvancedRls\r\n",
                "with (state = on)\r\n",
                "go"
            ],
            "metadata": {
                "language": "sql",
                "azdata_cell_guid": "173dd116-a654-4a7f-9109-8b8ce90867a2"
            },
            "outputs": [],
            "execution_count": null
        },
        {
            "cell_type": "markdown",
            "source": [
                "... a celý příklad otestujeme."
            ],
            "metadata": {
                "language": "sql",
                "azdata_cell_guid": "ef9f42aa-b956-430c-aa46-60b0bb423f11"
            },
            "attachments": {}
        },
        {
            "cell_type": "code",
            "source": [
                "use RLS\r\n",
                "go\r\n",
                "set context_info -1\r\n",
                "go\r\n",
                "select * from dbo.AdvancedRls\r\n",
                "GO\r\n",
                "\r\n",
                "declare @context varbinary(16) = cast('001' as varbinary)\r\n",
                "\r\n",
                "set context_info @context\r\n",
                "\r\n",
                "select * from dbo.AdvancedRls\r\n",
                "go "
            ],
            "metadata": {
                "language": "sql",
                "azdata_cell_guid": "6a7e6c43-9028-4830-8e31-7eb26a71631a"
            },
            "outputs": [],
            "execution_count": null
        },
        {
            "cell_type": "markdown",
            "source": [
                "Dokončená ukázka neřeší případ uživatele, který může vidět všechna data. V praxi jsem pro takové uživatele použil nějakou domluvenou hodnotu vlastnosti CONTEXT\\_INFO a doplnění podmínky do security predikátu."
            ],
            "metadata": {
                "language": "sql",
                "azdata_cell_guid": "5073f801-a08f-4202-9af7-f8192a9f6e1a"
            },
            "attachments": {}
        }
    ]
}