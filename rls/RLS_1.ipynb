{
    "metadata": {
        "kernelspec": {
            "name": "SQL",
            "display_name": "SQL",
            "language": "sql"
        },
        "language_info": {
            "name": "sql",
            "version": ""
        }
    },
    "nbformat_minor": 2,
    "nbformat": 4,
    "cells": [
        {
            "cell_type": "markdown",
            "source": [
                "# Row Level security - princip činnosti"
            ],
            "metadata": {
                "azdata_cell_guid": "5c239c47-e1d8-4779-889f-a05ca9b2f42a"
            },
            "attachments": {}
        },
        {
            "cell_type": "markdown",
            "source": [
                "## Přípravné kroky\r\n",
                "- Založení databáze\r\n",
                "- Založení uživatelů a jejich oprávnění \r\n",
                "- Založení jednoduché tabulky\r\n",
                "- Vložení testovacích záznamů"
            ],
            "metadata": {
                "azdata_cell_guid": "e6730d0f-5da2-453a-aa6d-2825ea11a2cb"
            },
            "attachments": {}
        },
        {
            "cell_type": "code",
            "source": [
                "use master\r\n",
                "go\r\n",
                "\r\n",
                "if db_id('RLS') is not NULL\r\n",
                "    alter database RLS set single_user with rollback immediate\r\n",
                "GO\r\n",
                "\r\n",
                "drop database if exists RLS\r\n",
                "go\r\n",
                "\r\n",
                "create database RLS\r\n",
                "go\r\n",
                "\r\n",
                "use RLS\r\n",
                "go\r\n",
                "\r\n",
                "create role CommonUsers\r\n",
                "go\r\n",
                "\r\n",
                "create user Adam without login\r\n",
                "create user Bob without login\r\n",
                "create user BigBoss without login\r\n",
                "go\r\n",
                "\r\n",
                "alter role CommonUsers add member Adam\r\n",
                "alter role CommonUsers add member Bob\r\n",
                "alter role CommonUsers add member BigBoss\r\n",
                "go\r\n",
                "\r\n",
                "grant select, insert, update, delete on schema::dbo to CommonUsers\r\n",
                "go\r\n",
                "\r\n",
                "create table dbo.SimpleRls\r\n",
                "(\r\n",
                "    Id int not null identity constraint pk_SimpleRls primary key\r\n",
                "    , Jmeno nvarchar(30) not null\r\n",
                "    , Bohatstvi int not null\r\n",
                "    , Uzivatel nvarchar(30) not null\r\n",
                ")\r\n",
                "go\r\n",
                "\r\n",
                "insert dbo.SimpleRls values\r\n",
                "('Jiří', 1000, 'Adam')\r\n",
                ", ('Jakub', 200, 'Adam')\r\n",
                ", ('Vladimír', 1100, 'Adam')\r\n",
                ", ('Jana', 1000, 'Bob')\r\n",
                "go"
            ],
            "metadata": {
                "azdata_cell_guid": "73c2a99c-a07d-4f88-b78d-628c2aaefcfd",
                "language": "sql"
            },
            "outputs": [],
            "execution_count": null
        },
        {
            "cell_type": "markdown",
            "source": [
                "Jednoduchý test, že každý z uživatelů může do tabulky a vidí všechny záznamy."
            ],
            "metadata": {
                "language": "sql",
                "azdata_cell_guid": "033ea43a-dcf9-4e63-bf95-a9303713c94a"
            },
            "attachments": {}
        },
        {
            "cell_type": "code",
            "source": [
                "use RLS\r\n",
                "go\r\n",
                "\r\n",
                "execute as user = 'Bob'\r\n",
                "select * from dbo.SimpleRls\r\n",
                "revert"
            ],
            "metadata": {
                "language": "sql",
                "azdata_cell_guid": "68a5cef9-52fa-433e-9605-26a3fd2be330"
            },
            "outputs": [],
            "execution_count": null
        },
        {
            "cell_type": "markdown",
            "source": [
                "## Co je cílem RLS\r\n",
                "S použitím obyčejného dotazu zavedeme omezení viditelnosti záznamů v tabulce podle uživatele"
            ],
            "metadata": {
                "language": "sql",
                "azdata_cell_guid": "dbc91dab-cec6-4f8e-8d47-a758c2b45c85"
            },
            "attachments": {}
        },
        {
            "cell_type": "code",
            "source": [
                "use RLS\r\n",
                "go\r\n",
                "\r\n",
                "select USER_NAME()\r\n",
                "select * from dbo.SimpleRls where Uzivatel = USER_NAME()\r\n",
                "go"
            ],
            "metadata": {
                "language": "sql",
                "azdata_cell_guid": "337323d0-982e-4200-b81a-f129f33f13b1"
            },
            "outputs": [],
            "execution_count": null
        },
        {
            "cell_type": "markdown",
            "source": [
                "Výsledek dotazu je prázdný, protože v žádném záznamu není uživatel **dbo**. Pro tuto chvíli musíme rozšířit podmínku, abychom \"vypnuli\" filtr pro uživatele s oprávněním na celou tabulku."
            ],
            "metadata": {
                "language": "sql",
                "azdata_cell_guid": "b601b95b-0c25-4d76-aa00-68ffd956ca62"
            },
            "attachments": {}
        },
        {
            "cell_type": "code",
            "source": [
                "use RLS\r\n",
                "go\r\n",
                "\r\n",
                "select USER_NAME()\r\n",
                "select * from dbo.SimpleRls where Uzivatel = USER_NAME() or USER_NAME() = 'dbo'\r\n",
                "go"
            ],
            "metadata": {
                "language": "sql",
                "azdata_cell_guid": "4e3a2a48-8326-4540-8ba4-b8d5d8c66c96"
            },
            "outputs": [],
            "execution_count": null
        },
        {
            "cell_type": "markdown",
            "source": [
                "**Dbo** není ten uživatel, kterého chceme pustit na celý obsah tabulky, ale my stejnou podmínku můžeme použít na kteréhokoliv uživatele. V našem případě je to uživatel **BigBoss**."
            ],
            "metadata": {
                "language": "sql",
                "azdata_cell_guid": "dbc6673a-1850-43e9-8674-24fb6910d319"
            },
            "attachments": {}
        },
        {
            "cell_type": "code",
            "source": [
                "use RLS\r\n",
                "go\r\n",
                "\r\n",
                "execute as user = 'BigBoss'\r\n",
                "-- execute as user = 'Bob'\r\n",
                "-- execute as user = 'Adam'\r\n",
                "select USER_NAME()\r\n",
                "select * from dbo.SimpleRls where Uzivatel = USER_NAME() or USER_NAME() = 'BigBoss'\r\n",
                "revert\r\n",
                "go"
            ],
            "metadata": {
                "language": "sql",
                "azdata_cell_guid": "138baeb8-0c69-496e-8b6a-1a596c7fa85a"
            },
            "outputs": [],
            "execution_count": null
        },
        {
            "cell_type": "markdown",
            "source": [
                "Předchozí příkaz ukazuje, jak má filtrování fungovat pro jednotlivé uživatele. Nevýhodou je, že takovou podmínku musí někdo (aplikace) vždy napsat. Proto chceme celý mechanismus udělat univerzální."
            ],
            "metadata": {
                "language": "sql",
                "azdata_cell_guid": "bed5b64c-15bf-4147-a654-68c2be7ffc04"
            },
            "attachments": {}
        }
    ]
}