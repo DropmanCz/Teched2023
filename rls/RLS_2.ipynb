{
    "metadata": {
        "kernelspec": {
            "name": "SQL",
            "display_name": "SQL",
            "language": "sql"
        },
        "language_info": {
            "name": "sql",
            "version": ""
        }
    },
    "nbformat_minor": 2,
    "nbformat": 4,
    "cells": [
        {
            "cell_type": "markdown",
            "source": [
                "# Definice objektů RLS\r\n",
                "Postup:\r\n",
                "- vytvoření schématu pro security predicates a security policies\r\n",
                "- definice security predicate\r\n",
                "- definice security policy\r\n",
                "- testování\r\n",
                "\r\n",
                "Předpoklady úspěšného fungování:\r\n",
                "- vykonání notebooku RLS_1"
            ],
            "metadata": {
                "azdata_cell_guid": "d930cb05-075e-460f-8d72-2c219aa64fde"
            },
            "attachments": {}
        },
        {
            "cell_type": "markdown",
            "source": [
                "## Založení schématu pro RLS objekty\r\n",
                "Je dobré, aby objekty RLS měly své vlastní schéma s omezeným přístupem běžných uživatelů."
            ],
            "metadata": {
                "azdata_cell_guid": "27e5ea42-0118-49da-935a-06bb1043d2e8"
            },
            "attachments": {}
        },
        {
            "cell_type": "code",
            "source": [
                "use RLS\r\n",
                "go\r\n",
                "\r\n",
                "drop security policy if exists rls.policySimpleRls\r\n",
                "drop function if exists rls.fnFiltr\r\n",
                "drop schema if exists rls\r\n",
                "go\r\n",
                "\r\n",
                "create schema rls authorization dbo\r\n",
                "go"
            ],
            "metadata": {
                "azdata_cell_guid": "5914cb30-6f1d-4acb-8fbf-9dfe66a4fc08",
                "language": "sql"
            },
            "outputs": [],
            "execution_count": null
        },
        {
            "cell_type": "markdown",
            "source": [
                "## Vytvoření security predicate\r\n",
                "In-Line Table Valued funkce, která jen definuje podmínky filtrování záznamů. Má právě jeden parametr. Tento parametr nahrazuje sloupec z tabulky, který jsme použili v minulém notebooku."
            ],
            "metadata": {
                "language": "sql",
                "azdata_cell_guid": "41f1c471-9521-4da6-8208-d60fa34da715"
            },
            "attachments": {}
        },
        {
            "cell_type": "code",
            "source": [
                "use RLS\r\n",
                "go\r\n",
                "\r\n",
                "create or alter function rls.fnFiltr(@userName nvarchar(30))\r\n",
                "returns table\r\n",
                "with SCHEMABINDING\r\n",
                "as\r\n",
                "return\r\n",
                "select 1 as col1 where @userName = USER_NAME() or USER_NAME() = 'BigBoss'\r\n",
                "GO"
            ],
            "metadata": {
                "language": "sql",
                "azdata_cell_guid": "a0374c80-1705-411b-9179-eb1e382b6286"
            },
            "outputs": [],
            "execution_count": null
        },
        {
            "cell_type": "markdown",
            "source": [
                "## Vytvoření security policy pro filtrování záznamů</span>\n",
                "\n",
                "Deklarace spojení tabulky s funkcí. Jedna politika může těchto spojení deklarovat více."
            ],
            "metadata": {
                "language": "sql",
                "azdata_cell_guid": "9666b9b5-2556-4639-a76c-c027c403bf8f"
            },
            "attachments": {}
        },
        {
            "cell_type": "code",
            "source": [
                "use RLS\r\n",
                "go\r\n",
                "\r\n",
                "create security policy rls.policySimpleRls\r\n",
                "add filter predicate rls.fnFiltr(Uzivatel) on dbo.SimpleRls\r\n",
                "with (state = on)\r\n",
                "go"
            ],
            "metadata": {
                "language": "sql",
                "azdata_cell_guid": "96b934fe-4ce6-4790-85fb-b9c85276a5af",
                "tags": []
            },
            "outputs": [],
            "execution_count": null
        },
        {
            "cell_type": "markdown",
            "source": [
                "## Testování výsledku\r\n",
                "Zkusíme dotazy v kontextu různých uživatelů"
            ],
            "metadata": {
                "language": "sql",
                "azdata_cell_guid": "57bd2333-57ae-4b2b-a453-7c6568357434"
            },
            "attachments": {}
        },
        {
            "cell_type": "code",
            "source": [
                "use RLS\r\n",
                "go\r\n",
                "\r\n",
                "select * from dbo.SimpleRls\r\n",
                "go"
            ],
            "metadata": {
                "language": "sql",
                "azdata_cell_guid": "a6949eec-db55-419b-aca9-a4a0c69e76bd"
            },
            "outputs": [],
            "execution_count": null
        },
        {
            "cell_type": "markdown",
            "source": [
                "Uživatel **dbo** má prázdný výsledek, ale to jsme čekali. Zkusíme stejný dotaz pro definované uživatele."
            ],
            "metadata": {
                "language": "sql",
                "azdata_cell_guid": "940c1fd6-9f3c-4382-9352-b719007abe8c"
            },
            "attachments": {}
        },
        {
            "cell_type": "code",
            "source": [
                "use RLS\r\n",
                "go\r\n",
                "\r\n",
                "execute as user = 'Adam'\r\n",
                "-- execute as user = 'Bob'\r\n",
                "-- execute as user = 'BigBoss'\r\n",
                "select * from dbo.SimpleRls\r\n",
                "revert\r\n",
                "go"
            ],
            "metadata": {
                "language": "sql",
                "azdata_cell_guid": "f4e08572-1934-4ea3-a7c8-f6c6f61c5d80"
            },
            "outputs": [],
            "execution_count": null
        },
        {
            "cell_type": "markdown",
            "source": [
                "Pro zjištění, jak to funguje, si spustíme předchozí kousek kódu v normálním dotazu (copy-paste do query window, zobrazení plánu vykonání)."
            ],
            "metadata": {
                "language": "sql",
                "azdata_cell_guid": "e494f730-6c4d-4958-9d76-e4097f5af75a"
            },
            "attachments": {}
        },
        {
            "cell_type": "markdown",
            "source": [
                "## Úprava politiky na modifikace</span>\r\n",
                "Stávající security politiku předěláme na BLOCK predikát a otestujeme."
            ],
            "metadata": {
                "language": "sql",
                "azdata_cell_guid": "8552f173-c78c-4535-b0af-3c9f2a08328a"
            },
            "attachments": {}
        },
        {
            "cell_type": "code",
            "source": [
                "use RLS\r\n",
                "go\r\n",
                "\r\n",
                "drop security policy rls.policySimpleRls\r\n",
                "GO\r\n",
                "\r\n",
                "create security policy rls.policySimpleRls\r\n",
                "add block predicate rls.fnFiltr(Uzivatel) on dbo.SimpleRls after insert\r\n",
                "go"
            ],
            "metadata": {
                "language": "sql",
                "azdata_cell_guid": "703e1058-00e4-48da-9f31-da95a735c5cc"
            },
            "outputs": [],
            "execution_count": null
        },
        {
            "cell_type": "code",
            "source": [
                "use RLS\r\n",
                "go\r\n",
                "\r\n",
                "execute as user = 'Bob'\r\n",
                "insert dbo.SimpleRls values ('Eva', 1000000, 'Adam')\r\n",
                "select @@error as spatny_insert\r\n",
                "insert dbo.SimpleRls values ('Vera', 1000000, 'Bob')\r\n",
                "select @@ERROR as dobry_insert\r\n",
                "select * from dbo.SimpleRls\r\n",
                "revert\r\n",
                "go"
            ],
            "metadata": {
                "language": "sql",
                "azdata_cell_guid": "57e4c3ec-ece7-43d1-afa3-3f0c9259de52"
            },
            "outputs": [],
            "execution_count": null
        }
    ]
}