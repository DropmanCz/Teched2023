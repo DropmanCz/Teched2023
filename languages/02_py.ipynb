{
    "metadata": {
        "kernelspec": {
            "name": "SQL",
            "display_name": "SQL",
            "language": "sql"
        },
        "language_info": {
            "name": "sql",
            "version": ""
        }
    },
    "nbformat_minor": 2,
    "nbformat": 4,
    "cells": [
        {
            "cell_type": "markdown",
            "source": [
                "# Satelity\r\n",
                "Jednoduchá ukázka, která předvede využití jazyka Python na SQL Serveru."
            ],
            "metadata": {
                "azdata_cell_guid": "96ee8b03-e071-4268-a120-93a959922e19"
            },
            "attachments": {}
        },
        {
            "cell_type": "markdown",
            "source": [
                "## Kontrola zapnutí externích skriptů"
            ],
            "metadata": {
                "azdata_cell_guid": "3ab7380a-237f-4c3d-b9a0-194ed550dfca"
            },
            "attachments": {}
        },
        {
            "cell_type": "code",
            "source": [
                "exec sp_configure 'external scripts enabled'\r\n",
                "go"
            ],
            "metadata": {
                "azdata_cell_guid": "9293e314-9970-45fc-95d0-6fa232949526",
                "language": "sql"
            },
            "outputs": [],
            "execution_count": null
        },
        {
            "cell_type": "markdown",
            "source": [
                "## Nejjednodušší test fungování\r\n",
                "Jen vypíšeme konstantní řetězec."
            ],
            "metadata": {
                "language": "sql",
                "azdata_cell_guid": "ffcd1073-aaab-407a-b9c9-8e6c6f2272ed"
            },
            "attachments": {}
        },
        {
            "cell_type": "code",
            "source": [
                "use Languages\r\n",
                "go\r\n",
                "\r\n",
                "exec sp_execute_external_script\r\n",
                "\t@language = N'Python'\r\n",
                "\t, @script = N'\r\n",
                "print(\"Jednoduchy vypis\")\r\n",
                "'\r\n",
                "go"
            ],
            "metadata": {
                "language": "sql",
                "azdata_cell_guid": "2f38653f-0b23-4519-81ce-f69a5e894096"
            },
            "outputs": [],
            "execution_count": null
        },
        {
            "cell_type": "markdown",
            "source": [
                "## Jak Python vidí data dodaná SQL Serverem\n",
                "\n",
                "V následujícím příkazu dáme do satelitního skriptu výsledek dotazu a podíváme se, jak s ním pracovat.\n",
                "*Pozn: Tady v notebooku není výsledek vidět.*"
            ],
            "metadata": {
                "language": "sql",
                "azdata_cell_guid": "414c6f8e-0a60-40d8-b84e-26c9f7f36d95"
            },
            "attachments": {}
        },
        {
            "cell_type": "code",
            "source": [
                "exec sp_execute_external_script\r\n",
                "\t@language = N'Python'\r\n",
                "\t, @script = N'\r\n",
                "print(type(InputDataSet))\r\n",
                "'\r\n",
                "\t, @input_data_1 = N'SELECT name as jmeno_db, create_date as datum_vytvoreni, user_access_desc from sys.databases'\r\n",
                "go"
            ],
            "metadata": {
                "language": "sql",
                "azdata_cell_guid": "df597e30-87f7-4c3c-bd0d-b563021eda9d",
                "tags": []
            },
            "outputs": [],
            "execution_count": null
        },
        {
            "cell_type": "markdown",
            "source": [
                "## Jak lze získat výsledek zpátky ze satelitního zpracování"
            ],
            "metadata": {
                "language": "sql",
                "azdata_cell_guid": "4ec4a3b5-0b85-4c7a-a1cf-1486c6648276"
            },
            "attachments": {}
        },
        {
            "cell_type": "code",
            "source": [
                "exec sp_execute_external_script\r\n",
                "\t@language = N'Python'\r\n",
                "\t, @script = N'\r\n",
                "OutputDataSet = InputDataSet\r\n",
                "'\r\n",
                "\t, @input_data_1 = N'SELECT name as jmeno_db, create_date as datum_vytvoreni, user_access_desc from sys.databases'\r\n",
                "go"
            ],
            "metadata": {
                "language": "sql",
                "azdata_cell_guid": "c0af83a1-602d-4d03-a56a-5e2dc957f2f3"
            },
            "outputs": [],
            "execution_count": null
        },
        {
            "cell_type": "markdown",
            "source": [
                "# Uložení výsledku zpracování dat do externího souboru\r\n",
                "Aby tento poslední příklad fungoval, je nutno na cílovou cestu nastavit oprávnění pro **ALL APPLICATION PACKAGES**."
            ],
            "metadata": {
                "language": "sql",
                "azdata_cell_guid": "225a2066-b26a-4466-8622-52d7491c19a2"
            },
            "attachments": {}
        },
        {
            "cell_type": "code",
            "source": [
                "exec sp_execute_external_script\r\n",
                "\t@language = N'Python'\r\n",
                "\t, @script = N'\r\n",
                "InputDataSet.to_csv(path, index=False)\r\n",
                "'\r\n",
                "\t, @input_data_1 = N'SELECT name as jmeno_db, create_date as datum_vytvoreni, user_access_desc from sys.databases'\r\n",
                "\t, @params = N'@path nvarchar(100)'\r\n",
                "\t, @path = N'C:\\Temp\\seznamdb_py.csv'\r\n",
                "go"
            ],
            "metadata": {
                "language": "sql",
                "azdata_cell_guid": "fc23cb1a-28be-4a12-9b40-91b813a44beb"
            },
            "outputs": [],
            "execution_count": null
        }
    ]
}