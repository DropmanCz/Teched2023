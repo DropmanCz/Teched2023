{
    "metadata": {
        "kernelspec": {
            "name": "SQL",
            "display_name": "SQL",
            "language": "sql"
        },
        "language_info": {
            "name": "sql",
            "version": ""
        }
    },
    "nbformat_minor": 2,
    "nbformat": 4,
    "cells": [
        {
            "cell_type": "markdown",
            "source": [
                "# Všechny možné výrazy\r\n",
                "Bez nutnosti cokoliv nastavovat, zapínat a zabezpečovat můžeme pracovat i komplexními hodnotami, a to pomocí příslušných výrazů. Následují ukázky zpracování XML, geografických dat a JSON."
            ],
            "metadata": {
                "azdata_cell_guid": "b7f1bcb0-d6da-452e-9612-8e41d9d353ea"
            },
            "attachments": {}
        },
        {
            "cell_type": "markdown",
            "source": [
                "## XML\r\n",
                "Následující skript využívá XML reprezentace událostí z Extended Event session zvane **system_health**. Proto je ukázka mírně obohacena o následující prvky:\r\n",
                "- funkce **sys.fn_xe_file_target_read_file** - tato funkce umožňuje číst data XEvents uložená v souborech.\r\n",
                "- příprava dat z XEvents pomocí konverze na XML a pomocí CTE\r\n",
                "- využití katalogu **sys.messages** pro zobrazení obecného textu nalezených chybových hlášení"
            ],
            "metadata": {
                "azdata_cell_guid": "75767fc0-a02c-46e7-9f0d-e7ea2069cc0d"
            },
            "attachments": {}
        },
        {
            "cell_type": "code",
            "source": [
                ";with system_health as\r\n",
                "(\r\n",
                "select cast(event_data as xml) as event_data \r\n",
                "from sys.fn_xe_file_target_read_file('C:\\Program Files\\Microsoft SQL Server\\MSSQL16.MSSQLSERVER\\MSSQL\\Log\\*.xel', null, null, null)\r\n",
                ")\r\n",
                "select distinct \r\n",
                "\tc.value('(data[@name=\"error_number\"]/value)[1]', 'int') as cislo_chyby\r\n",
                "\t, c.value('(data[@name=\"severity\"]/value)[1]', 'int') as uroven\r\n",
                "\t-- , c.value('(data[@name=\"message\"]/value)[1]', 'nvarchar(1000)') as text_chyby\r\n",
                "\t, m.text\r\n",
                "from system_health\r\n",
                "\tcross apply event_data.nodes('event[@name=\"error_reported\"]') as t(c)\r\n",
                "\tjoin sys.messages as m on c.value('(data[@name=\"error_number\"]/value)[1]', 'int') = m.message_id\r\n",
                "where m.language_id = 1029"
            ],
            "metadata": {
                "azdata_cell_guid": "3ddb7be9-e449-421a-892c-71f722169f86",
                "language": "sql"
            },
            "outputs": [],
            "execution_count": null
        },
        {
            "cell_type": "markdown",
            "source": [
                "## Geometry, geography\r\n",
                "Nakreslíme plošný objekt pomocí OGC výrazu a najdeme na mapě Vivo Hostivař. \r\n",
                "\r\n",
                "*Pozn.: Všechny ukázky s grafickým výstupem jsou čitelné pouze v SSMS!*"
            ],
            "metadata": {
                "language": "sql",
                "azdata_cell_guid": "1a2e2bf7-3eab-43a0-ab6b-a2989f3747d5"
            },
            "attachments": {}
        },
        {
            "cell_type": "code",
            "source": [
                "declare @ctverecek geometry = 'POLYGON((0 0, 0 3, 3 3, 3 0, 0 0))'\r\n",
                "select @ctverecek"
            ],
            "metadata": {
                "language": "sql",
                "azdata_cell_guid": "c624e55a-20ff-4a69-a8f2-7ad5206a58f5",
                "tags": [
                    "hide_input"
                ]
            },
            "outputs": [],
            "execution_count": null
        },
        {
            "cell_type": "code",
            "source": [
                "select * from sys.spatial_reference_systems where spatial_reference_id = 4326"
            ],
            "metadata": {
                "language": "sql",
                "azdata_cell_guid": "05f8d246-78ac-480e-b3ce-c3ee641056e3"
            },
            "outputs": [],
            "execution_count": null
        },
        {
            "cell_type": "code",
            "source": [
                "declare @kdeJsme geography = geography::STGeomFromText('POINT(50.05339 14.51777)', 4326)\r\n",
                "select @kdeJsme\r\n",
                "select @kdeJsme.STBuffer(1)"
            ],
            "metadata": {
                "language": "sql",
                "azdata_cell_guid": "7ff4a5d4-f471-460b-b2ff-6d0057e4d07c"
            },
            "outputs": [],
            "execution_count": null
        },
        {
            "cell_type": "markdown",
            "source": [
                "## JSON\r\n",
                "JSON nemá na SQL Serveru svůj datový typ, proto se používají funkce nad řetězcem. Ukázka otestuje vstupní řetězec na validitu, a pak z něj získá hodnotu."
            ],
            "metadata": {
                "language": "sql",
                "azdata_cell_guid": "a825ba58-d038-4cc2-90d6-ea3b6b3eabe3"
            },
            "attachments": {}
        },
        {
            "cell_type": "code",
            "source": [
                "declare @json nvarchar(100) = N'{\"jmeno\": \"Pepa\"}'\r\n",
                "select ISJSON(@json)\r\n",
                "\r\n",
                "select JSON_QUERY(@json, N'$') as json_piece, JSON_VALUE(@json, N'$.jmeno') as json_attr"
            ],
            "metadata": {
                "language": "sql",
                "azdata_cell_guid": "3639ee89-5111-4adb-b911-4cc1bf64516f"
            },
            "outputs": [],
            "execution_count": null
        }
    ]
}